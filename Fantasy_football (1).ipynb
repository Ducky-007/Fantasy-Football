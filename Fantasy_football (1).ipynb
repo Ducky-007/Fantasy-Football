{
  "nbformat": 4,
  "nbformat_minor": 0,
  "metadata": {
    "colab": {
      "provenance": []
    },
    "kernelspec": {
      "name": "python3",
      "display_name": "Python 3"
    },
    "language_info": {
      "name": "python"
    }
  },
  "cells": [
    {
      "cell_type": "code",
      "execution_count": 63,
      "metadata": {
        "id": "qLhRG4zNqeqR"
      },
      "outputs": [],
      "source": [
        "%%capture\n",
        "!pip install category_encoders==2.*\n",
        "# !pip install pdpbox\n",
        "!pip install shap\n",
        "\n",
        "\n",
        "import pandas as pd\n",
        "import numpy as np\n",
        "import matplotlib.pyplot as plt\n",
        "%matplotlib inline\n",
        "\n",
        "from sklearn.ensemble import RandomForestClassifier, RandomForestRegressor, GradientBoostingClassifier, GradientBoostingRegressor\n",
        "from xgboost import XGBClassifier, XGBRegressor\n",
        "from sklearn.impute import SimpleImputer\n",
        "from sklearn.metrics import mean_absolute_error, roc_auc_score, roc_curve, RocCurveDisplay, classification_report, ConfusionMatrixDisplay\n",
        "from sklearn.model_selection import train_test_split, RandomizedSearchCV\n",
        "from sklearn.linear_model import LogisticRegression, LinearRegression\n",
        "\n",
        "import warnings\n",
        "warnings.filterwarnings(action='ignore', category=FutureWarning, module='xgboost')"
      ]
    },
    {
      "cell_type": "code",
      "source": [
        "# more info on datasets can be found: https://www.kaggle.com/code/mur418/2020-fantasy-football"
      ],
      "metadata": {
        "id": "98FEZ-CusRjr"
      },
      "execution_count": 32,
      "outputs": []
    },
    {
      "cell_type": "code",
      "source": [
        "# using three different types of models, which one is the best to predict which features are best for a running back's fantasy football position?"
      ],
      "metadata": {
        "id": "iKSJHTKQ24rN"
      },
      "execution_count": 48,
      "outputs": []
    },
    {
      "cell_type": "code",
      "source": [
        "# data clean\n",
        "# read in csv for just rb's\n",
        "df = pd.read_csv('/content/drive/MyDrive/Colab Notebooks/fantasy_football_datasets/rb_stats_and_projections.csv')\n",
        "\n",
        "# change cols to lower and replace spaces with underscore\n",
        "df.columns = df.columns.str.lower().str.replace(' ', '_')\n",
        "\n",
        "# drop null values\n",
        "df.dropna(inplace=True)\n",
        "\n",
        "# create subset for only 2020 stats\n",
        "mask = df[[col for col in df.columns if '2020' in col]]\n",
        "df = mask\n",
        "\n",
        "# create fm and tv\n",
        "# want to predict total fantasy points\n",
        "target = '2020_fpts'\n",
        "X = df.drop(columns = target)\n",
        "y = df[target]\n"
      ],
      "metadata": {
        "id": "lTt3Qmjkrbd5"
      },
      "execution_count": 33,
      "outputs": []
    },
    {
      "cell_type": "code",
      "source": [
        "# check target vairbale for skewness\n",
        "y.hist()"
      ],
      "metadata": {
        "colab": {
          "base_uri": "https://localhost:8080/",
          "height": 447
        },
        "id": "Cq2uq9Lzuem6",
        "outputId": "5f0212dd-9c5c-466b-ba77-0a34471a3032"
      },
      "execution_count": 34,
      "outputs": [
        {
          "output_type": "execute_result",
          "data": {
            "text/plain": [
              "<Axes: >"
            ]
          },
          "metadata": {},
          "execution_count": 34
        },
        {
          "output_type": "display_data",
          "data": {
            "text/plain": [
              "<Figure size 640x480 with 1 Axes>"
            ],
            "image/png": "[encoded data removed]"
          },
          "metadata": {}
        }
      ]
    },
    {
      "cell_type": "code",
      "source": [
        "# check skewness\n",
        "y.skew(axis = 0, skipna = True)"
      ],
      "metadata": {
        "colab": {
          "base_uri": "https://localhost:8080/"
        },
        "id": "ZxQm5WU-hq-M",
        "outputId": "fb54247a-2862-418f-a955-938c3bb54244"
      },
      "execution_count": 35,
      "outputs": [
        {
          "output_type": "execute_result",
          "data": {
            "text/plain": [
              "0.8958220366954868"
            ]
          },
          "metadata": {},
          "execution_count": 35
        }
      ]
    },
    {
      "cell_type": "code",
      "source": [
        "# split data\n",
        "X_train, X_val, y_train, y_val = train_test_split(X, y, test_size=.2, random_state=42)"
      ],
      "metadata": {
        "id": "ZjUOIC0LkUUO"
      },
      "execution_count": 36,
      "outputs": []
    },
    {
      "cell_type": "code",
      "source": [
        "# get mean absolute error\n",
        "y_pred = [y_train.mean()] * len(y_train)\n",
        "mae_first = mean_absolute_error(y_train, y_pred)\n",
        "print('mean absolute error:', mae_first)"
      ],
      "metadata": {
        "colab": {
          "base_uri": "https://localhost:8080/"
        },
        "id": "NnBxiICoveuv",
        "outputId": "362fdb54-2965-4844-d9de-e2f5d4c73381"
      },
      "execution_count": 58,
      "outputs": [
        {
          "output_type": "stream",
          "name": "stdout",
          "text": [
            "mean absolute error: 74.76348958333334\n"
          ]
        }
      ]
    },
    {
      "cell_type": "code",
      "source": [
        "# make models and fit train data to them\n",
        "model_lr = LinearRegression()\n",
        "model_rf = RandomForestRegressor(random_state=42, n_jobs =-1)\n",
        "model_xgb = XGBRegressor(random_state=42, n_jobs = -1)"
      ],
      "metadata": {
        "id": "PA50oJonmWbI"
      },
      "execution_count": 38,
      "outputs": []
    },
    {
      "cell_type": "code",
      "source": [
        "model_lr.fit(X_train, y_train);\n",
        "model_rf.fit(X_train, y_train);\n",
        "model_xgb.fit(X_train, y_train);"
      ],
      "metadata": {
        "id": "5Om2Z-qonpCv"
      },
      "execution_count": 39,
      "outputs": []
    },
    {
      "cell_type": "code",
      "source": [
        "# create function to run all models at once\n",
        "def check_metrics(model):\n",
        "  print('Training MAE: ', mean_absolute_error(y_train, model.predict(X_train)))\n",
        "  print('VAL MAE: ', mean_absolute_error(y_val, model.predict(X_val)))\n",
        "  print('VAL Rˆ2: ', model.score(X_val, y_val))\n",
        "  print()\n",
        "  print()\n",
        "\n",
        "models = [model_lr, model_rf, model_xgb]\n",
        "\n",
        "for m in models:\n",
        "  check_metrics(m)\n",
        "\n",
        "# linear regression model has best val mae so go with that"
      ],
      "metadata": {
        "colab": {
          "base_uri": "https://localhost:8080/"
        },
        "id": "35M5gZoFo5Gz",
        "outputId": "cad2ae0c-5deb-4193-a61b-7e33ca00b280"
      },
      "execution_count": 47,
      "outputs": [
        {
          "output_type": "stream",
          "name": "stdout",
          "text": [
            "Training MAE:  1.4430094265450581\n",
            "VAL MAE:  1.504676372341226\n",
            "VAL Rˆ2:  0.9995141096087578\n",
            "\n",
            "\n",
            "Training MAE:  2.6070788194444248\n",
            "VAL MAE:  7.754261333333323\n",
            "VAL Rˆ2:  0.9773302480316945\n",
            "\n",
            "\n",
            "Training MAE:  0.024711223940054487\n",
            "VAL MAE:  9.937081906127926\n",
            "VAL Rˆ2:  0.9727413620554479\n",
            "\n",
            "\n"
          ]
        }
      ]
    },
    {
      "cell_type": "code",
      "source": [
        "# get metrics from linear regression model\n",
        "coefficients = model_lr.coef_\n",
        "coef = pd.DataFrame(data = coefficients, index = X_train.columns, columns = ['coefficients'])\n",
        "coef['coefficients'].sort_values().plot(kind = 'barh')\n",
        "plt.title('Linear Regression Coefs')"
      ],
      "metadata": {
        "colab": {
          "base_uri": "https://localhost:8080/",
          "height": 469
        },
        "id": "xSyUeQbLpWl5",
        "outputId": "0685567f-f8bc-4cea-b86e-3ed61e612f75"
      },
      "execution_count": 49,
      "outputs": [
        {
          "output_type": "execute_result",
          "data": {
            "text/plain": [
              "Text(0.5, 1.0, 'Linear Regression Coefs')"
            ]
          },
          "metadata": {},
          "execution_count": 49
        },
        {
          "output_type": "display_data",
          "data": {
            "text/plain": [
              "<Figure size 640x480 with 1 Axes>"
            ],
            "image/png": "[encoded data removed]"
          },
          "metadata": {}
        }
      ]
    },
    {
      "cell_type": "code",
      "source": [
        "coef['coefficients'].sort_values(key = abs, ascending=False)\n",
        "\n",
        "# rush td and rec td are the top features for total points for a rb\n",
        "# total receptions is the third most important feature for a rb"
      ],
      "metadata": {
        "id": "IAcqz-kwrgcT",
        "colab": {
          "base_uri": "https://localhost:8080/"
        },
        "outputId": "ba0e8243-9973-4f00-82e4-6b7ad259ad55"
      },
      "execution_count": 50,
      "outputs": [
        {
          "output_type": "execute_result",
          "data": {
            "text/plain": [
              "2020_rush_td       5.707285\n",
              "2020_rec_td        2.490862\n",
              "2020_rec           0.847771\n",
              "2020_rec_yds       0.135055\n",
              "2020_rush_yards    0.103721\n",
              "2020_rush_avg      0.049185\n",
              "2020_car          -0.017234\n",
              "Name: coefficients, dtype: float64"
            ]
          },
          "metadata": {},
          "execution_count": 50
        }
      ]
    },
    {
      "cell_type": "code",
      "source": [
        "# do this again but balance the data since it is clearly skewed to the right\n",
        "# transform data\n",
        "\n",
        "y_train_log = np.log1p(y_train)\n",
        "model_lr.fit(X_train, y_train_log)\n",
        "y_pred_log = model_lr.predict(X_val)\n",
        "y_pred_reg = np.expm1(y_pred_log)"
      ],
      "metadata": {
        "id": "B7NXDSwHsRnb"
      },
      "execution_count": 52,
      "outputs": []
    },
    {
      "cell_type": "code",
      "source": [
        "# get MAE now with transformed data\n",
        "\n",
        "lr_mae = mean_absolute_error(y_val, y_pred_reg)\n",
        "print(\"first mae:\", mae_first)\n",
        "print(\"mae with transformed data:\", lr_mae)\n",
        "\n",
        "# MAE was about 3 less than our baseline!"
      ],
      "metadata": {
        "id": "i6tQmrgQu0o4",
        "colab": {
          "base_uri": "https://localhost:8080/"
        },
        "outputId": "7bf44f8a-5b34-4b60-e0aa-9e781bdbaa74"
      },
      "execution_count": 59,
      "outputs": [
        {
          "output_type": "stream",
          "name": "stdout",
          "text": [
            "first mae: 74.76348958333334\n",
            "mae with transformed data: 71.94167725071851\n"
          ]
        }
      ]
    },
    {
      "cell_type": "code",
      "source": [
        "# run same model fucntion but with transformed training data\n",
        "model_lr = LinearRegression()\n",
        "model_rf = RandomForestRegressor(random_state=42, n_jobs =-1)\n",
        "model_xgb = XGBRegressor(random_state=42, n_jobs = -1)\n",
        "\n",
        "\n",
        "model_lr.fit(X_train, y_train_log);\n",
        "model_rf.fit(X_train, y_train_log);\n",
        "model_xgb.fit(X_train, y_train_log);\n",
        "\n",
        "model_rf.fit(X_train, y_train_log)\n",
        "y_rf_pred_log = model_rf.predict(X_val)\n",
        "y_rf_pred_reg = np.expm1(y_rf_pred_log)\n",
        "rf_mae = mean_absolute_error(y_val, y_rf_pred_reg)\n",
        "\n",
        "\n",
        "model_xgb.fit(X_train, y_train_log)\n",
        "y_xbg_pred_log = model_xgb.predict(X_val)\n",
        "y_xgb_pred_reg = np.expm1(y_xbg_pred_log)\n",
        "xgb_mae = mean_absolute_error(y_val, y_xgb_pred_reg)\n",
        "\n",
        "print('LR MAE: ', lr_mae)\n",
        "print('RF MAE: ', rf_mae)\n",
        "print('XBG MAE: ', xgb_mae)\n",
        "\n",
        "# RF model has the best MAE"
      ],
      "metadata": {
        "colab": {
          "base_uri": "https://localhost:8080/"
        },
        "id": "LBpkHUcrvaE0",
        "outputId": "aba1fac0-f8af-4eaf-98ca-8b9cd3a3b864"
      },
      "execution_count": 60,
      "outputs": [
        {
          "output_type": "stream",
          "name": "stdout",
          "text": [
            "LR MAE:  71.94167725071851\n",
            "RF MAE:  8.350749093669316\n",
            "XBG MAE:  9.752120644378662\n"
          ]
        }
      ]
    },
    {
      "cell_type": "code",
      "source": [
        "# get feature importances for RF cause its the best performing model\n",
        "rf_coefs = model_rf.feature_importances_\n",
        "rf_coef = pd.DataFrame(data = rf_coefs, index = X_train.columns, columns = ['coefficients'])\n",
        "rf_coef.sort_values(by ='coefficients').tail().plot(kind = 'barh')\n",
        "\n",
        "# looks like rushing yards, amount of carries are the top 2 features influencing total points\n",
        "# this contradicts linear regression model which had rushing td as most important coef"
      ],
      "metadata": {
        "colab": {
          "base_uri": "https://localhost:8080/",
          "height": 282
        },
        "id": "QMo48KVTxatQ",
        "outputId": "41ec5413-7c30-4d74-aafe-a859ef29cfac"
      },
      "execution_count": null,
      "outputs": [
        {
          "output_type": "execute_result",
          "data": {
            "text/plain": [
              "<matplotlib.axes._subplots.AxesSubplot at 0x7fb02ca02e20>"
            ]
          },
          "metadata": {},
          "execution_count": 356
        },
        {
          "output_type": "display_data",
          "data": {
            "text/plain": [
              "<Figure size 432x288 with 1 Axes>"
            ],
            "image/png": "[encoded data removed]"
          },
          "metadata": {
            "needs_background": "light"
          }
        }
      ]
    },
    {
      "cell_type": "code",
      "source": [
        "rf_coef['coefficients'].sort_values(ascending = False)\n",
        "# can see receptions are more important than recept yards"
      ],
      "metadata": {
        "colab": {
          "base_uri": "https://localhost:8080/"
        },
        "id": "idOy9f732izH",
        "outputId": "d2f0deef-1459-4eb6-f9fd-acff06f8b574"
      },
      "execution_count": null,
      "outputs": [
        {
          "output_type": "execute_result",
          "data": {
            "text/plain": [
              "2020_rush_yards    0.355226\n",
              "2020_car           0.301057\n",
              "2020_rec           0.164658\n",
              "2020_rec_yds       0.157670\n",
              "2020_rush_td       0.011621\n",
              "2020_rush_avg      0.006583\n",
              "2020_rec_td        0.003186\n",
              "Name: coefficients, dtype: float64"
            ]
          },
          "metadata": {},
          "execution_count": 342
        }
      ]
    },
    {
      "cell_type": "code",
      "source": [
        "# according to random forest model, top three features for a rb in 2020: rush_yards --> number of carries --> number of receptions\n",
        "# rushing tds are 5th most important feature, interesting...\n",
        "# reception tds are the least important feature, again interesting...."
      ],
      "metadata": {
        "id": "LbnBwr-6K4ME"
      },
      "execution_count": null,
      "outputs": []
    },
    {
      "cell_type": "code",
      "source": [
        "# which model is better to go with? linear regression model saying rb most importnat features for points in the 2020 season are: rushing and reception tds and total number of receptions"
      ],
      "metadata": {
        "id": "6gS56HiH6Gew"
      },
      "execution_count": null,
      "outputs": []
    }
  ]
}